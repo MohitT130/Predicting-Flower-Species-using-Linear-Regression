{
 "cells": [
  {
   "cell_type": "code",
   "execution_count": 1,
   "id": "c817572a",
   "metadata": {
    "_cell_guid": "b1076dfc-b9ad-4769-8c92-a6c4dae69d19",
    "_uuid": "8f2839f25d086af736a60e9eeb907d3b93b6e0e5",
    "execution": {
     "iopub.execute_input": "2023-06-04T11:53:51.214240Z",
     "iopub.status.busy": "2023-06-04T11:53:51.213780Z",
     "iopub.status.idle": "2023-06-04T11:53:51.225276Z",
     "shell.execute_reply": "2023-06-04T11:53:51.224266Z"
    },
    "papermill": {
     "duration": 0.022193,
     "end_time": "2023-06-04T11:53:51.227645",
     "exception": false,
     "start_time": "2023-06-04T11:53:51.205452",
     "status": "completed"
    },
    "tags": []
   },
   "outputs": [],
   "source": [
    "import numpy as np\n",
    "from matplotlib import pyplot as plt\n",
    "from mpl_toolkits.mplot3d import Axes3D # needed to plot 3D surfaces"
   ]
  },
  {
   "cell_type": "code",
   "execution_count": 2,
   "id": "5a5a0a5a",
   "metadata": {
    "execution": {
     "iopub.execute_input": "2023-06-04T11:53:51.241552Z",
     "iopub.status.busy": "2023-06-04T11:53:51.240775Z",
     "iopub.status.idle": "2023-06-04T11:53:52.757606Z",
     "shell.execute_reply": "2023-06-04T11:53:52.756510Z"
    },
    "papermill": {
     "duration": 1.527134,
     "end_time": "2023-06-04T11:53:52.760683",
     "exception": false,
     "start_time": "2023-06-04T11:53:51.233549",
     "status": "completed"
    },
    "tags": []
   },
   "outputs": [],
   "source": [
    "# Let's load the dataset\n",
    "import pandas as pd\n",
    "from sklearn import datasets\n",
    "iris = datasets.load_iris()"
   ]
  },
  {
   "cell_type": "code",
   "execution_count": 3,
   "id": "cdf0c119",
   "metadata": {
    "execution": {
     "iopub.execute_input": "2023-06-04T11:53:52.775507Z",
     "iopub.status.busy": "2023-06-04T11:53:52.774510Z",
     "iopub.status.idle": "2023-06-04T11:53:52.780371Z",
     "shell.execute_reply": "2023-06-04T11:53:52.779461Z"
    },
    "papermill": {
     "duration": 0.015778,
     "end_time": "2023-06-04T11:53:52.782744",
     "exception": false,
     "start_time": "2023-06-04T11:53:52.766966",
     "status": "completed"
    },
    "tags": []
   },
   "outputs": [],
   "source": [
    "# It includes three iris species named as 'setosa' , 'versicolor', 'virginica' with some properties about each flower. "
   ]
  },
  {
   "cell_type": "code",
   "execution_count": 4,
   "id": "48092556",
   "metadata": {
    "execution": {
     "iopub.execute_input": "2023-06-04T11:53:52.796978Z",
     "iopub.status.busy": "2023-06-04T11:53:52.796568Z",
     "iopub.status.idle": "2023-06-04T11:53:52.849203Z",
     "shell.execute_reply": "2023-06-04T11:53:52.848069Z"
    },
    "papermill": {
     "duration": 0.063456,
     "end_time": "2023-06-04T11:53:52.852191",
     "exception": false,
     "start_time": "2023-06-04T11:53:52.788735",
     "status": "completed"
    },
    "tags": []
   },
   "outputs": [
    {
     "data": {
      "text/html": [
       "<div>\n",
       "<style scoped>\n",
       "    .dataframe tbody tr th:only-of-type {\n",
       "        vertical-align: middle;\n",
       "    }\n",
       "\n",
       "    .dataframe tbody tr th {\n",
       "        vertical-align: top;\n",
       "    }\n",
       "\n",
       "    .dataframe thead th {\n",
       "        text-align: right;\n",
       "    }\n",
       "</style>\n",
       "<table border=\"1\" class=\"dataframe\">\n",
       "  <thead>\n",
       "    <tr style=\"text-align: right;\">\n",
       "      <th></th>\n",
       "      <th>sepal length (cm)</th>\n",
       "      <th>sepal width (cm)</th>\n",
       "      <th>petal length (cm)</th>\n",
       "      <th>petal width (cm)</th>\n",
       "      <th>target</th>\n",
       "    </tr>\n",
       "  </thead>\n",
       "  <tbody>\n",
       "    <tr>\n",
       "      <th>0</th>\n",
       "      <td>5.1</td>\n",
       "      <td>3.5</td>\n",
       "      <td>1.4</td>\n",
       "      <td>0.2</td>\n",
       "      <td>0</td>\n",
       "    </tr>\n",
       "    <tr>\n",
       "      <th>1</th>\n",
       "      <td>4.9</td>\n",
       "      <td>3.0</td>\n",
       "      <td>1.4</td>\n",
       "      <td>0.2</td>\n",
       "      <td>0</td>\n",
       "    </tr>\n",
       "    <tr>\n",
       "      <th>2</th>\n",
       "      <td>4.7</td>\n",
       "      <td>3.2</td>\n",
       "      <td>1.3</td>\n",
       "      <td>0.2</td>\n",
       "      <td>0</td>\n",
       "    </tr>\n",
       "    <tr>\n",
       "      <th>3</th>\n",
       "      <td>4.6</td>\n",
       "      <td>3.1</td>\n",
       "      <td>1.5</td>\n",
       "      <td>0.2</td>\n",
       "      <td>0</td>\n",
       "    </tr>\n",
       "    <tr>\n",
       "      <th>4</th>\n",
       "      <td>5.0</td>\n",
       "      <td>3.6</td>\n",
       "      <td>1.4</td>\n",
       "      <td>0.2</td>\n",
       "      <td>0</td>\n",
       "    </tr>\n",
       "    <tr>\n",
       "      <th>5</th>\n",
       "      <td>5.4</td>\n",
       "      <td>3.9</td>\n",
       "      <td>1.7</td>\n",
       "      <td>0.4</td>\n",
       "      <td>0</td>\n",
       "    </tr>\n",
       "    <tr>\n",
       "      <th>6</th>\n",
       "      <td>4.6</td>\n",
       "      <td>3.4</td>\n",
       "      <td>1.4</td>\n",
       "      <td>0.3</td>\n",
       "      <td>0</td>\n",
       "    </tr>\n",
       "    <tr>\n",
       "      <th>7</th>\n",
       "      <td>5.0</td>\n",
       "      <td>3.4</td>\n",
       "      <td>1.5</td>\n",
       "      <td>0.2</td>\n",
       "      <td>0</td>\n",
       "    </tr>\n",
       "    <tr>\n",
       "      <th>8</th>\n",
       "      <td>4.4</td>\n",
       "      <td>2.9</td>\n",
       "      <td>1.4</td>\n",
       "      <td>0.2</td>\n",
       "      <td>0</td>\n",
       "    </tr>\n",
       "    <tr>\n",
       "      <th>9</th>\n",
       "      <td>4.9</td>\n",
       "      <td>3.1</td>\n",
       "      <td>1.5</td>\n",
       "      <td>0.1</td>\n",
       "      <td>0</td>\n",
       "    </tr>\n",
       "    <tr>\n",
       "      <th>10</th>\n",
       "      <td>5.4</td>\n",
       "      <td>3.7</td>\n",
       "      <td>1.5</td>\n",
       "      <td>0.2</td>\n",
       "      <td>0</td>\n",
       "    </tr>\n",
       "    <tr>\n",
       "      <th>11</th>\n",
       "      <td>4.8</td>\n",
       "      <td>3.4</td>\n",
       "      <td>1.6</td>\n",
       "      <td>0.2</td>\n",
       "      <td>0</td>\n",
       "    </tr>\n",
       "    <tr>\n",
       "      <th>12</th>\n",
       "      <td>4.8</td>\n",
       "      <td>3.0</td>\n",
       "      <td>1.4</td>\n",
       "      <td>0.1</td>\n",
       "      <td>0</td>\n",
       "    </tr>\n",
       "    <tr>\n",
       "      <th>13</th>\n",
       "      <td>4.3</td>\n",
       "      <td>3.0</td>\n",
       "      <td>1.1</td>\n",
       "      <td>0.1</td>\n",
       "      <td>0</td>\n",
       "    </tr>\n",
       "    <tr>\n",
       "      <th>14</th>\n",
       "      <td>5.8</td>\n",
       "      <td>4.0</td>\n",
       "      <td>1.2</td>\n",
       "      <td>0.2</td>\n",
       "      <td>0</td>\n",
       "    </tr>\n",
       "    <tr>\n",
       "      <th>15</th>\n",
       "      <td>5.7</td>\n",
       "      <td>4.4</td>\n",
       "      <td>1.5</td>\n",
       "      <td>0.4</td>\n",
       "      <td>0</td>\n",
       "    </tr>\n",
       "    <tr>\n",
       "      <th>16</th>\n",
       "      <td>5.4</td>\n",
       "      <td>3.9</td>\n",
       "      <td>1.3</td>\n",
       "      <td>0.4</td>\n",
       "      <td>0</td>\n",
       "    </tr>\n",
       "    <tr>\n",
       "      <th>17</th>\n",
       "      <td>5.1</td>\n",
       "      <td>3.5</td>\n",
       "      <td>1.4</td>\n",
       "      <td>0.3</td>\n",
       "      <td>0</td>\n",
       "    </tr>\n",
       "    <tr>\n",
       "      <th>18</th>\n",
       "      <td>5.7</td>\n",
       "      <td>3.8</td>\n",
       "      <td>1.7</td>\n",
       "      <td>0.3</td>\n",
       "      <td>0</td>\n",
       "    </tr>\n",
       "    <tr>\n",
       "      <th>19</th>\n",
       "      <td>5.1</td>\n",
       "      <td>3.8</td>\n",
       "      <td>1.5</td>\n",
       "      <td>0.3</td>\n",
       "      <td>0</td>\n",
       "    </tr>\n",
       "  </tbody>\n",
       "</table>\n",
       "</div>"
      ],
      "text/plain": [
       "    sepal length (cm)  sepal width (cm)  petal length (cm)  petal width (cm)  \\\n",
       "0                 5.1               3.5                1.4               0.2   \n",
       "1                 4.9               3.0                1.4               0.2   \n",
       "2                 4.7               3.2                1.3               0.2   \n",
       "3                 4.6               3.1                1.5               0.2   \n",
       "4                 5.0               3.6                1.4               0.2   \n",
       "5                 5.4               3.9                1.7               0.4   \n",
       "6                 4.6               3.4                1.4               0.3   \n",
       "7                 5.0               3.4                1.5               0.2   \n",
       "8                 4.4               2.9                1.4               0.2   \n",
       "9                 4.9               3.1                1.5               0.1   \n",
       "10                5.4               3.7                1.5               0.2   \n",
       "11                4.8               3.4                1.6               0.2   \n",
       "12                4.8               3.0                1.4               0.1   \n",
       "13                4.3               3.0                1.1               0.1   \n",
       "14                5.8               4.0                1.2               0.2   \n",
       "15                5.7               4.4                1.5               0.4   \n",
       "16                5.4               3.9                1.3               0.4   \n",
       "17                5.1               3.5                1.4               0.3   \n",
       "18                5.7               3.8                1.7               0.3   \n",
       "19                5.1               3.8                1.5               0.3   \n",
       "\n",
       "    target  \n",
       "0        0  \n",
       "1        0  \n",
       "2        0  \n",
       "3        0  \n",
       "4        0  \n",
       "5        0  \n",
       "6        0  \n",
       "7        0  \n",
       "8        0  \n",
       "9        0  \n",
       "10       0  \n",
       "11       0  \n",
       "12       0  \n",
       "13       0  \n",
       "14       0  \n",
       "15       0  \n",
       "16       0  \n",
       "17       0  \n",
       "18       0  \n",
       "19       0  "
      ]
     },
     "execution_count": 4,
     "metadata": {},
     "output_type": "execute_result"
    }
   ],
   "source": [
    "iris_data =pd.DataFrame(iris.data, columns=iris.feature_names)\n",
    "iris_data[\"target\"]=iris.target\n",
    "iris_data.head(20)"
   ]
  },
  {
   "cell_type": "code",
   "execution_count": 5,
   "id": "194223cf",
   "metadata": {
    "execution": {
     "iopub.execute_input": "2023-06-04T11:53:52.867507Z",
     "iopub.status.busy": "2023-06-04T11:53:52.867091Z",
     "iopub.status.idle": "2023-06-04T11:53:52.874825Z",
     "shell.execute_reply": "2023-06-04T11:53:52.873750Z"
    },
    "papermill": {
     "duration": 0.018526,
     "end_time": "2023-06-04T11:53:52.877413",
     "exception": false,
     "start_time": "2023-06-04T11:53:52.858887",
     "status": "completed"
    },
    "tags": []
   },
   "outputs": [],
   "source": [
    "#  Renaming column names to make it more standard for ease of coding and readability.\n",
    "iris_data.rename(columns={'sepal length (cm)':'sepal_length',\n",
    "                          'sepal width (cm)':'sepal_width',\n",
    "                          'petal length (cm)':'petal_length',\n",
    "                          'petal width (cm)':'petal_width'},inplace=True)"
   ]
  },
  {
   "cell_type": "code",
   "execution_count": 6,
   "id": "5b9d617a",
   "metadata": {
    "execution": {
     "iopub.execute_input": "2023-06-04T11:53:52.891909Z",
     "iopub.status.busy": "2023-06-04T11:53:52.891324Z",
     "iopub.status.idle": "2023-06-04T11:53:52.900832Z",
     "shell.execute_reply": "2023-06-04T11:53:52.900020Z"
    },
    "papermill": {
     "duration": 0.019446,
     "end_time": "2023-06-04T11:53:52.903163",
     "exception": false,
     "start_time": "2023-06-04T11:53:52.883717",
     "status": "completed"
    },
    "tags": []
   },
   "outputs": [],
   "source": [
    "# Add a new column named \"species\" having value {if target == 0 : 'setosa' , if target ==1 : 'versicolor', if target == 2 : 'virginica' }\n",
    "\n",
    "# Create a mapping of target values to species names\n",
    "species_mapping = {\n",
    "    0: 'setosa',\n",
    "    1: 'versicolor',\n",
    "    2: 'virginica'\n",
    "}\n",
    "\n",
    "# Add the 'species' column based on the 'target' column\n",
    "iris_data['species'] = np.select(\n",
    "    condlist=[iris_data['target'] == k for k in species_mapping.keys()],\n",
    "    choicelist=[species_mapping[k] for k in species_mapping.keys()],\n",
    "    default=None\n",
    ")\n"
   ]
  },
  {
   "cell_type": "code",
   "execution_count": 7,
   "id": "b95fa93e",
   "metadata": {
    "execution": {
     "iopub.execute_input": "2023-06-04T11:53:52.919050Z",
     "iopub.status.busy": "2023-06-04T11:53:52.918469Z",
     "iopub.status.idle": "2023-06-04T11:53:52.930183Z",
     "shell.execute_reply": "2023-06-04T11:53:52.929376Z"
    },
    "papermill": {
     "duration": 0.021722,
     "end_time": "2023-06-04T11:53:52.932668",
     "exception": false,
     "start_time": "2023-06-04T11:53:52.910946",
     "status": "completed"
    },
    "tags": []
   },
   "outputs": [],
   "source": [
    "# We will now select \"versicolor\" to predict its \"petal_width\" using \"petal_length \" as one of the parameter.\n",
    "# Making a new DataFrame named \"data\" having only rows whose species values are 'versicolor'.\n",
    "data = iris_data[iris_data['species'] == 'versicolor'].copy()"
   ]
  },
  {
   "cell_type": "code",
   "execution_count": 8,
   "id": "be963c65",
   "metadata": {
    "execution": {
     "iopub.execute_input": "2023-06-04T11:53:52.947095Z",
     "iopub.status.busy": "2023-06-04T11:53:52.946506Z",
     "iopub.status.idle": "2023-06-04T11:53:52.958815Z",
     "shell.execute_reply": "2023-06-04T11:53:52.957684Z"
    },
    "papermill": {
     "duration": 0.022178,
     "end_time": "2023-06-04T11:53:52.961098",
     "exception": false,
     "start_time": "2023-06-04T11:53:52.938920",
     "status": "completed"
    },
    "tags": []
   },
   "outputs": [
    {
     "data": {
      "text/html": [
       "<div>\n",
       "<style scoped>\n",
       "    .dataframe tbody tr th:only-of-type {\n",
       "        vertical-align: middle;\n",
       "    }\n",
       "\n",
       "    .dataframe tbody tr th {\n",
       "        vertical-align: top;\n",
       "    }\n",
       "\n",
       "    .dataframe thead th {\n",
       "        text-align: right;\n",
       "    }\n",
       "</style>\n",
       "<table border=\"1\" class=\"dataframe\">\n",
       "  <thead>\n",
       "    <tr style=\"text-align: right;\">\n",
       "      <th></th>\n",
       "      <th>petal_length</th>\n",
       "      <th>petal_width</th>\n",
       "    </tr>\n",
       "  </thead>\n",
       "  <tbody>\n",
       "    <tr>\n",
       "      <th>50</th>\n",
       "      <td>4.7</td>\n",
       "      <td>1.4</td>\n",
       "    </tr>\n",
       "    <tr>\n",
       "      <th>51</th>\n",
       "      <td>4.5</td>\n",
       "      <td>1.5</td>\n",
       "    </tr>\n",
       "    <tr>\n",
       "      <th>52</th>\n",
       "      <td>4.9</td>\n",
       "      <td>1.5</td>\n",
       "    </tr>\n",
       "    <tr>\n",
       "      <th>53</th>\n",
       "      <td>4.0</td>\n",
       "      <td>1.3</td>\n",
       "    </tr>\n",
       "    <tr>\n",
       "      <th>54</th>\n",
       "      <td>4.6</td>\n",
       "      <td>1.5</td>\n",
       "    </tr>\n",
       "  </tbody>\n",
       "</table>\n",
       "</div>"
      ],
      "text/plain": [
       "    petal_length  petal_width\n",
       "50           4.7          1.4\n",
       "51           4.5          1.5\n",
       "52           4.9          1.5\n",
       "53           4.0          1.3\n",
       "54           4.6          1.5"
      ]
     },
     "execution_count": 8,
     "metadata": {},
     "output_type": "execute_result"
    }
   ],
   "source": [
    "# Now we are droping all the columns except petal_length and petal_width\n",
    "data.drop(columns=['target','species','sepal_length','sepal_width'],inplace=True)\n",
    "data.head()"
   ]
  },
  {
   "cell_type": "code",
   "execution_count": 9,
   "id": "b20ad056",
   "metadata": {
    "execution": {
     "iopub.execute_input": "2023-06-04T11:53:52.975737Z",
     "iopub.status.busy": "2023-06-04T11:53:52.975123Z",
     "iopub.status.idle": "2023-06-04T11:53:53.385315Z",
     "shell.execute_reply": "2023-06-04T11:53:53.384221Z"
    },
    "papermill": {
     "duration": 0.420187,
     "end_time": "2023-06-04T11:53:53.387627",
     "exception": false,
     "start_time": "2023-06-04T11:53:52.967440",
     "status": "completed"
    },
    "tags": []
   },
   "outputs": [
    {
     "data": {
      "image/png": "[encoded data removed]",
      "text/plain": [
       "<Figure size 640x480 with 1 Axes>"
      ]
     },
     "metadata": {},
     "output_type": "display_data"
    }
   ],
   "source": [
    "# Plotting the Dataframe named data having x axis as 'petal_length', y axis as 'petal_width' and kind='scatter'\n",
    "data.plot(x='petal_length', y='petal_width', kind='scatter')\n",
    "plt.xlabel('Petal Length')\n",
    "plt.ylabel('Petal Width')\n",
    "plt.title('Scatter Plot of Petal Length vs. Petal Width')\n",
    "plt.show()"
   ]
  },
  {
   "cell_type": "code",
   "execution_count": 10,
   "id": "005564ec",
   "metadata": {
    "execution": {
     "iopub.execute_input": "2023-06-04T11:53:53.403675Z",
     "iopub.status.busy": "2023-06-04T11:53:53.403022Z",
     "iopub.status.idle": "2023-06-04T11:53:53.512486Z",
     "shell.execute_reply": "2023-06-04T11:53:53.511474Z"
    },
    "papermill": {
     "duration": 0.121,
     "end_time": "2023-06-04T11:53:53.515333",
     "exception": false,
     "start_time": "2023-06-04T11:53:53.394333",
     "status": "completed"
    },
    "tags": []
   },
   "outputs": [],
   "source": [
    "# We will now split the dataset into training and test datasets into (X_train,Y_train) and (X_test,Y_test)\n",
    "from sklearn.model_selection import train_test_split\n",
    "X=data['petal_length'].values.reshape(-1,1)\n",
    "Y=data['petal_width'].values.reshape(-1,1)\n",
    "X_train,X_test,Y_train,Y_test=train_test_split(X,Y, test_size=0.33,random_state=1)\n"
   ]
  },
  {
   "cell_type": "code",
   "execution_count": 11,
   "id": "d84d8004",
   "metadata": {
    "execution": {
     "iopub.execute_input": "2023-06-04T11:53:53.530921Z",
     "iopub.status.busy": "2023-06-04T11:53:53.530528Z",
     "iopub.status.idle": "2023-06-04T11:53:53.855599Z",
     "shell.execute_reply": "2023-06-04T11:53:53.854333Z"
    },
    "papermill": {
     "duration": 0.336044,
     "end_time": "2023-06-04T11:53:53.858495",
     "exception": false,
     "start_time": "2023-06-04T11:53:53.522451",
     "status": "completed"
    },
    "tags": []
   },
   "outputs": [
    {
     "data": {
      "image/png": "[encoded data removed]",
      "text/plain": [
       "<Figure size 640x480 with 1 Axes>"
      ]
     },
     "metadata": {},
     "output_type": "display_data"
    }
   ],
   "source": [
    "# Plotting training datasets\n",
    "plt.scatter(X_train, Y_train)\n",
    "plt.xlabel('X_train')\n",
    "plt.ylabel('Y_train')\n",
    "plt.title('Scatter Plot of Training Dataset')\n",
    "plt.show()"
   ]
  },
  {
   "cell_type": "code",
   "execution_count": 12,
   "id": "2cc14e81",
   "metadata": {
    "execution": {
     "iopub.execute_input": "2023-06-04T11:53:53.875683Z",
     "iopub.status.busy": "2023-06-04T11:53:53.875276Z",
     "iopub.status.idle": "2023-06-04T11:53:54.196611Z",
     "shell.execute_reply": "2023-06-04T11:53:54.195250Z"
    },
    "papermill": {
     "duration": 0.332955,
     "end_time": "2023-06-04T11:53:54.199353",
     "exception": false,
     "start_time": "2023-06-04T11:53:53.866398",
     "status": "completed"
    },
    "tags": []
   },
   "outputs": [
    {
     "data": {
      "image/png": "[encoded data removed]",
      "text/plain": [
       "<Figure size 640x480 with 1 Axes>"
      ]
     },
     "metadata": {},
     "output_type": "display_data"
    }
   ],
   "source": [
    "# Plotting test datasets\n",
    "plt.scatter(X_test, Y_test)\n",
    "plt.xlabel('X_test')\n",
    "plt.ylabel('Y_test')\n",
    "plt.title('Scatter Plot of Testing Dataset')\n",
    "plt.show()"
   ]
  },
  {
   "cell_type": "code",
   "execution_count": 13,
   "id": "3a7b6584",
   "metadata": {
    "execution": {
     "iopub.execute_input": "2023-06-04T11:53:54.218212Z",
     "iopub.status.busy": "2023-06-04T11:53:54.217073Z",
     "iopub.status.idle": "2023-06-04T11:53:54.336046Z",
     "shell.execute_reply": "2023-06-04T11:53:54.334966Z"
    },
    "papermill": {
     "duration": 0.131536,
     "end_time": "2023-06-04T11:53:54.339006",
     "exception": false,
     "start_time": "2023-06-04T11:53:54.207470",
     "status": "completed"
    },
    "tags": []
   },
   "outputs": [],
   "source": [
    "# LinearRegession using sklearn\n",
    "from sklearn.linear_model import LinearRegression\n",
    "\n",
    "# Create an instance of the LinearRegression model\n",
    "model = LinearRegression()\n",
    "\n",
    "# Fit the model using X_train and Y_train\n",
    "model.fit(X_train, Y_train)\n",
    "\n",
    "# Make predictions on the training data\n",
    "Y_pred = model.predict(X_train)\n"
   ]
  },
  {
   "cell_type": "code",
   "execution_count": 14,
   "id": "e781574a",
   "metadata": {
    "execution": {
     "iopub.execute_input": "2023-06-04T11:53:54.356873Z",
     "iopub.status.busy": "2023-06-04T11:53:54.355789Z",
     "iopub.status.idle": "2023-06-04T11:53:54.362718Z",
     "shell.execute_reply": "2023-06-04T11:53:54.361491Z"
    },
    "papermill": {
     "duration": 0.019565,
     "end_time": "2023-06-04T11:53:54.366372",
     "exception": false,
     "start_time": "2023-06-04T11:53:54.346807",
     "status": "completed"
    },
    "tags": []
   },
   "outputs": [
    {
     "name": "stdout",
     "output_type": "stream",
     "text": [
      "Intercept: [-0.10228121]\n",
      "Coefficients: [[0.3338594]]\n"
     ]
    }
   ],
   "source": [
    "# Printing the Intercept and Coefficient\n",
    "print(\"Intercept:\", model.intercept_)\n",
    "print(\"Coefficients:\", model.coef_)"
   ]
  },
  {
   "cell_type": "code",
   "execution_count": 15,
   "id": "9ca1d28c",
   "metadata": {
    "execution": {
     "iopub.execute_input": "2023-06-04T11:53:54.384158Z",
     "iopub.status.busy": "2023-06-04T11:53:54.383108Z",
     "iopub.status.idle": "2023-06-04T11:53:54.766543Z",
     "shell.execute_reply": "2023-06-04T11:53:54.765377Z"
    },
    "papermill": {
     "duration": 0.395135,
     "end_time": "2023-06-04T11:53:54.769171",
     "exception": false,
     "start_time": "2023-06-04T11:53:54.374036",
     "status": "completed"
    },
    "tags": []
   },
   "outputs": [
    {
     "data": {
      "image/png": "[encoded data removed]",
      "text/plain": [
       "<Figure size 640x480 with 1 Axes>"
      ]
     },
     "metadata": {},
     "output_type": "display_data"
    }
   ],
   "source": [
    "# Now we can overlay the predicted line and test data points to see where the predicted point lies.\n",
    "\n",
    "# Create a scatter plot of the test data\n",
    "plt.scatter(X_test, Y_test, color='blue', label='Actual')\n",
    "\n",
    "# Plot the predicted line\n",
    "plt.plot(X_test, Y_test, color='red', label='Predicted')\n",
    "\n",
    "# Set labels and title\n",
    "plt.xlabel('X_test')\n",
    "plt.ylabel('Y_test')\n",
    "plt.title('Linear Regression: Actual vs. Predicted')\n",
    "\n",
    "# Add a legend\n",
    "plt.legend()\n",
    "\n",
    "# Display the plot\n",
    "plt.show()\n"
   ]
  },
  {
   "cell_type": "code",
   "execution_count": null,
   "id": "c17c6085",
   "metadata": {
    "papermill": {
     "duration": 0.008167,
     "end_time": "2023-06-04T11:53:54.785964",
     "exception": false,
     "start_time": "2023-06-04T11:53:54.777797",
     "status": "completed"
    },
    "tags": []
   },
   "outputs": [],
   "source": []
  }
 ],
 "metadata": {
  "kernelspec": {
   "display_name": "Python 3",
   "language": "python",
   "name": "python3"
  },
  "language_info": {
   "codemirror_mode": {
    "name": "ipython",
    "version": 3
   },
   "file_extension": ".py",
   "mimetype": "text/x-python",
   "name": "python",
   "nbconvert_exporter": "python",
   "pygments_lexer": "ipython3",
   "version": "3.10.10"
  },
  "papermill": {
   "default_parameters": {},
   "duration": 17.274999,
   "end_time": "2023-06-04T11:53:55.919031",
   "environment_variables": {},
   "exception": null,
   "input_path": "__notebook__.ipynb",
   "output_path": "__notebook__.ipynb",
   "parameters": {},
   "start_time": "2023-06-04T11:53:38.644032",
   "version": "2.4.0"
  }
 },
 "nbformat": 4,
 "nbformat_minor": 5
}
